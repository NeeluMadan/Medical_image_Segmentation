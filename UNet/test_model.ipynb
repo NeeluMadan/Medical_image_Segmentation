{
 "cells": [
  {
   "cell_type": "code",
   "execution_count": 3,
   "metadata": {},
   "outputs": [],
   "source": [
    "import os\n",
    "import torch\n",
    "from pylab import *\n",
    "import numpy as np\n",
    "from numpy import zeros\n",
    "from tqdm import tqdm\n",
    "import torch.nn as nn\n",
    "from model import UNet\n",
    "from scipy import ndimage\n",
    "import SimpleITK as sitk\n",
    "from numpy import ndarray\n",
    "import torch.optim as optim\n",
    "import matplotlib.pyplot as plt\n",
    "import torch.nn.functional as F\n",
    "from torchvision import transforms\n",
    "from result_submission import SegThorSubmission, Rescale, ToTensor, Normalize"
   ]
  },
  {
   "cell_type": "code",
   "execution_count": 4,
   "metadata": {},
   "outputs": [],
   "source": [
    "def tensor_to_numpy(tensor):\n",
    "    t_numpy = tensor.cpu().numpy()\n",
    "    t_numpy = np.transpose(t_numpy, [0, 2, 3, 1])\n",
    "    t_numpy = np.squeeze(t_numpy)\n",
    "\n",
    "    return t_numpy"
   ]
  },
  {
   "cell_type": "code",
   "execution_count": 19,
   "metadata": {},
   "outputs": [],
   "source": [
    "def test():\n",
    "    test_path = 'data/test'\n",
    "    for patient in tqdm(os.listdir(test_path)): \n",
    "        count = 0\n",
    "\n",
    "        file = patient\n",
    "        x = file.split(\".\")\n",
    "        filename = x[0] + '.' + x[1]\n",
    "        test_set = SegThorSubmission(test_path, patient=patient, phase='test',\n",
    "                                   transform=transforms.Compose([\n",
    "                                       Rescale(0.25),\n",
    "                                       Normalize(),                           \n",
    "                                       ToTensor()\n",
    "                                   ]))\n",
    "        \n",
    "        test_loader = torch.utils.data.DataLoader(dataset=test_set, \n",
    "                                                  batch_size=11, \n",
    "                                                  shuffle=False)\n",
    "\n",
    "        print(len(test_set))\n",
    "        mask_i = zeros([len(test_set),  128, 128])\n",
    "       # a = zeros([3,5])\n",
    "        device = torch.device(\"cuda\" if torch.cuda.is_available() else \"cpu\")\n",
    "\n",
    "        model = torch.load(\"models/model.pt\")\n",
    "        model.eval()\n",
    "        model.to(device)\n",
    "        \n",
    "        \n",
    "        with torch.no_grad():\n",
    "            for batch_idx, image in enumerate(test_loader):     \n",
    "                images = image.to(device, dtype=torch.float)        \n",
    "                outputs = model(images)\n",
    "\n",
    "                images = tensor_to_numpy(images)\n",
    "                outputs = tensor_to_numpy(outputs)                \n",
    "           #     mask_i = np.zeros((len(test_set), images.shape[1], images.shape[2]))\n",
    "            #    print(outputs.shape)\n",
    "                for i in range(outputs.shape[0]):\n",
    "                    for j in range(outputs.shape[3]):\n",
    "                        for x in range(outputs.shape[1]):\n",
    "                            for y in range(outputs.shape[2]):\n",
    "                                if outputs[i, x, y, j] > 0.5:               ## For Eusophagus:  Red\n",
    "                                    mask_i[count, x, y] = j\n",
    "                    count = count + 1\n",
    "\n",
    "        volume_numpy = zeros([len(test_set),  512, 512])\n",
    "        for s in range(0,mask_i.shape[0]):\n",
    "            slice_v = mask_i[s,:,:]           \n",
    "            slice_v = slice_v.astype(float32)\n",
    "            slice_v = ndimage.interpolation.zoom(slice_v, zoom=4, order=0, mode='nearest', prefilter=True)\n",
    "            volume_numpy[s, :, :] = slice_v\n",
    "        \n",
    "        print(volume_numpy.shape)\n",
    "        volume = sitk.GetImageFromArray(volume_numpy, isVector=False)\n",
    "        print(volume.GetSize())\n",
    "        sitk.WriteImage(sitk.Cast( volume, sitk.sitkUInt8 ), filename, True) "
   ]
  },
  {
   "cell_type": "code",
   "execution_count": 21,
   "metadata": {
    "scrolled": true
   },
   "outputs": [
    {
     "name": "stderr",
     "output_type": "stream",
     "text": [
      "\r",
      "  0%|          | 0/1 [00:00<?, ?it/s]"
     ]
    },
    {
     "name": "stdout",
     "output_type": "stream",
     "text": [
      "data/test/Patient_48.nii.gz\n",
      "shape of the volume while reading  (205, 512, 512)\n",
      "Length after assinging to list 205\n",
      "205\n",
      "(205, 512, 512)\n",
      "(512, 512, 205)\n"
     ]
    },
    {
     "name": "stderr",
     "output_type": "stream",
     "text": [
      "100%|██████████| 1/1 [00:22<00:00, 22.47s/it]\n"
     ]
    }
   ],
   "source": [
    "if __name__ == \"__main__\":\n",
    "    test()"
   ]
  },
  {
   "cell_type": "code",
   "execution_count": null,
   "metadata": {},
   "outputs": [],
   "source": []
  }
 ],
 "metadata": {
  "kernelspec": {
   "display_name": "Python 3",
   "language": "python",
   "name": "python3"
  },
  "language_info": {
   "codemirror_mode": {
    "name": "ipython",
    "version": 3
   },
   "file_extension": ".py",
   "mimetype": "text/x-python",
   "name": "python",
   "nbconvert_exporter": "python",
   "pygments_lexer": "ipython3",
   "version": "3.6.7"
  }
 },
 "nbformat": 4,
 "nbformat_minor": 2
}
