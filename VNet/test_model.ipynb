{
 "cells": [
  {
   "cell_type": "code",
   "execution_count": 7,
   "metadata": {},
   "outputs": [],
   "source": [
    "import os\n",
    "import torch\n",
    "from pylab import *\n",
    "import numpy as np\n",
    "import torch.nn as nn\n",
    "import SimpleITK as sitk\n",
    "from numpy import ndarray\n",
    "from scipy import ndimage\n",
    "import torch.optim as optim\n",
    "import matplotlib.pyplot as plt\n",
    "import torch.nn.functional as F\n",
    "from torchvision import transforms\n",
    "\n",
    "from model import VNet\n",
    "from data import SegThorDataset"
   ]
  },
  {
   "cell_type": "code",
   "execution_count": 8,
   "metadata": {},
   "outputs": [],
   "source": [
    "def tensor_to_numpy(tensor):\n",
    "    t_numpy = tensor.cpu().numpy()\n",
    "    t_numpy = np.transpose(t_numpy, [0, 2, 3, 4, 1])\n",
    "    t_numpy = np.squeeze(t_numpy)\n",
    "\n",
    "    return t_numpy"
   ]
  },
  {
   "cell_type": "code",
   "execution_count": 9,
   "metadata": {},
   "outputs": [],
   "source": [
    "def test():        \n",
    "    test_set = SegThorDataset(\"data\", phase = 'test', vol_size = [128, 128, 128])\n",
    "    test_loader = torch.utils.data.DataLoader(test_set, batch_size = 1, shuffle = False)    \n",
    "\n",
    "    \n",
    "    device = torch.device(\"cuda\" if torch.cuda.is_available() else \"cpu\")\n",
    "\n",
    "    model = torch.load(\"models/model.pt\")\n",
    "    model.eval()\n",
    "    model.to(device)\n",
    "    active_vol =  np.zeros(5)\n",
    "    \n",
    "    with torch.no_grad():\n",
    "     #   (images, labels, size) = next(iter(test_loader))\n",
    "        for batch_idx, (images, labels, size) in enumerate(test_loader):\n",
    "\n",
    "            images, labels = images.to(device, dtype=torch.float), labels.to(device, dtype=torch.uint8)\n",
    "            outputs = model(images)\n",
    "\n",
    "            images = tensor_to_numpy(images)\n",
    "            outputs = tensor_to_numpy(outputs)\n",
    "            labels = tensor_to_numpy(labels)\n",
    "            size = size.numpy()\n",
    "            size = np.reshape(size, (1,np.product(size.shape)))[0]\n",
    "            print(\"=========================================================================\")\n",
    "            print(\"size of input volume: \", size)\n",
    "            \n",
    "            predicted_volume_numpy = np.zeros(shape=(128, 128, 128))\n",
    "\n",
    "            for j in range(outputs.shape[3]):\n",
    "                for x in range(outputs.shape[0]):\n",
    "                    for y in range(outputs.shape[1]):\n",
    "                        for z in range(outputs.shape[2]):\n",
    "                            if outputs[x, y, z, j] > 0.5:\n",
    "                                predicted_volume_numpy[x, y, z] = j\n",
    "                                active_vol[j] = active_vol[j] + 1\n",
    "\n",
    "            print(\"Active volume =\", active_vol)\n",
    "            factor = np.divide(size, predicted_volume_numpy.shape)  \n",
    "            print(\"Resize factor = \", factor)\n",
    "\n",
    "            predicted_volume_numpy = predicted_volume_numpy.astype(float32)   \n",
    "            resize_vol = ndimage.interpolation.zoom(predicted_volume_numpy, factor, order=0, mode='nearest', prefilter=True)\n",
    "\n",
    "            filename = \"file.nii.gz\"\n",
    "            predicted_volume = sitk.GetImageFromArray(resize_vol, isVector=False)\n",
    "            print(\"Size of segmented volume: \", predicted_volume.GetSize())\n",
    "            sitk.WriteImage(sitk.Cast( predicted_volume, sitk.sitkUInt8 ), filename, True)\n"
   ]
  },
  {
   "cell_type": "code",
   "execution_count": 10,
   "metadata": {},
   "outputs": [
    {
     "name": "stderr",
     "output_type": "stream",
     "text": [
      "100%|██████████| 7/7 [00:05<00:00,  1.20it/s]\n"
     ]
    },
    {
     "name": "stdout",
     "output_type": "stream",
     "text": [
      "size of input volume:  [206 512 512]\n",
      "Active volume = [0. 0. 0. 0. 0.]\n",
      "Resize factor =  [1.609375 4.       4.      ]\n",
      "Size of segmented volume:  (512, 512, 206)\n",
      "size of input volume:  [213 512 512]\n",
      "Active volume = [0. 0. 0. 0. 0.]\n",
      "Resize factor =  [1.6640625 4.        4.       ]\n",
      "Size of segmented volume:  (512, 512, 213)\n",
      "size of input volume:  [150 512 512]\n",
      "Active volume = [0. 0. 0. 0. 0.]\n",
      "Resize factor =  [1.171875 4.       4.      ]\n",
      "Size of segmented volume:  (512, 512, 150)\n",
      "size of input volume:  [176 512 512]\n",
      "Active volume = [0. 0. 0. 0. 0.]\n",
      "Resize factor =  [1.375 4.    4.   ]\n",
      "Size of segmented volume:  (512, 512, 176)\n",
      "size of input volume:  [166 512 512]\n"
     ]
    },
    {
     "ename": "KeyboardInterrupt",
     "evalue": "",
     "output_type": "error",
     "traceback": [
      "\u001b[0;31m---------------------------------------------------------------------------\u001b[0m",
      "\u001b[0;31mKeyboardInterrupt\u001b[0m                         Traceback (most recent call last)",
      "\u001b[0;32m<ipython-input-10-6f3ecc759007>\u001b[0m in \u001b[0;36m<module>\u001b[0;34m\u001b[0m\n\u001b[1;32m      1\u001b[0m \u001b[0;32mif\u001b[0m \u001b[0m__name__\u001b[0m \u001b[0;34m==\u001b[0m \u001b[0;34m\"__main__\"\u001b[0m\u001b[0;34m:\u001b[0m\u001b[0;34m\u001b[0m\u001b[0;34m\u001b[0m\u001b[0m\n\u001b[0;32m----> 2\u001b[0;31m     \u001b[0mtest\u001b[0m\u001b[0;34m(\u001b[0m\u001b[0;34m)\u001b[0m\u001b[0;34m\u001b[0m\u001b[0;34m\u001b[0m\u001b[0m\n\u001b[0m",
      "\u001b[0;32m<ipython-input-9-99df95567f9e>\u001b[0m in \u001b[0;36mtest\u001b[0;34m()\u001b[0m\n\u001b[1;32m     33\u001b[0m                     \u001b[0;32mfor\u001b[0m \u001b[0my\u001b[0m \u001b[0;32min\u001b[0m \u001b[0mrange\u001b[0m\u001b[0;34m(\u001b[0m\u001b[0moutputs\u001b[0m\u001b[0;34m.\u001b[0m\u001b[0mshape\u001b[0m\u001b[0;34m[\u001b[0m\u001b[0;36m1\u001b[0m\u001b[0;34m]\u001b[0m\u001b[0;34m)\u001b[0m\u001b[0;34m:\u001b[0m\u001b[0;34m\u001b[0m\u001b[0;34m\u001b[0m\u001b[0m\n\u001b[1;32m     34\u001b[0m                         \u001b[0;32mfor\u001b[0m \u001b[0mz\u001b[0m \u001b[0;32min\u001b[0m \u001b[0mrange\u001b[0m\u001b[0;34m(\u001b[0m\u001b[0moutputs\u001b[0m\u001b[0;34m.\u001b[0m\u001b[0mshape\u001b[0m\u001b[0;34m[\u001b[0m\u001b[0;36m2\u001b[0m\u001b[0;34m]\u001b[0m\u001b[0;34m)\u001b[0m\u001b[0;34m:\u001b[0m\u001b[0;34m\u001b[0m\u001b[0;34m\u001b[0m\u001b[0m\n\u001b[0;32m---> 35\u001b[0;31m                             \u001b[0;32mif\u001b[0m \u001b[0moutputs\u001b[0m\u001b[0;34m[\u001b[0m\u001b[0mx\u001b[0m\u001b[0;34m,\u001b[0m \u001b[0my\u001b[0m\u001b[0;34m,\u001b[0m \u001b[0mz\u001b[0m\u001b[0;34m,\u001b[0m \u001b[0mj\u001b[0m\u001b[0;34m]\u001b[0m \u001b[0;34m>\u001b[0m \u001b[0;36m0.5\u001b[0m\u001b[0;34m:\u001b[0m\u001b[0;34m\u001b[0m\u001b[0;34m\u001b[0m\u001b[0m\n\u001b[0m\u001b[1;32m     36\u001b[0m                                 \u001b[0mpredicted_volume_numpy\u001b[0m\u001b[0;34m[\u001b[0m\u001b[0mx\u001b[0m\u001b[0;34m,\u001b[0m \u001b[0my\u001b[0m\u001b[0;34m,\u001b[0m \u001b[0mz\u001b[0m\u001b[0;34m]\u001b[0m \u001b[0;34m=\u001b[0m \u001b[0mj\u001b[0m\u001b[0;34m\u001b[0m\u001b[0;34m\u001b[0m\u001b[0m\n\u001b[1;32m     37\u001b[0m                                 \u001b[0mactive_vol\u001b[0m\u001b[0;34m[\u001b[0m\u001b[0mj\u001b[0m\u001b[0;34m]\u001b[0m \u001b[0;34m=\u001b[0m \u001b[0mactive_vol\u001b[0m\u001b[0;34m[\u001b[0m\u001b[0mj\u001b[0m\u001b[0;34m]\u001b[0m \u001b[0;34m+\u001b[0m \u001b[0;36m1\u001b[0m\u001b[0;34m\u001b[0m\u001b[0;34m\u001b[0m\u001b[0m\n",
      "\u001b[0;31mKeyboardInterrupt\u001b[0m: "
     ]
    }
   ],
   "source": [
    "if __name__ == \"__main__\":\n",
    "    test()"
   ]
  },
  {
   "cell_type": "code",
   "execution_count": null,
   "metadata": {},
   "outputs": [],
   "source": []
  }
 ],
 "metadata": {
  "kernelspec": {
   "display_name": "Python 3",
   "language": "python",
   "name": "python3"
  },
  "language_info": {
   "codemirror_mode": {
    "name": "ipython",
    "version": 3
   },
   "file_extension": ".py",
   "mimetype": "text/x-python",
   "name": "python",
   "nbconvert_exporter": "python",
   "pygments_lexer": "ipython3",
   "version": "3.6.7"
  }
 },
 "nbformat": 4,
 "nbformat_minor": 2
}
